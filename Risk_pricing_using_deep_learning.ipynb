{
  "nbformat": 4,
  "nbformat_minor": 0,
  "metadata": {
    "colab": {
      "name": "Risk pricing using deep learning.ipynb",
      "provenance": [],
      "authorship_tag": "ABX9TyPtZzxjGoPR19Sibr8phlxQ",
      "include_colab_link": true
    },
    "kernelspec": {
      "name": "python3",
      "display_name": "Python 3"
    }
  },
  "cells": [
    {
      "cell_type": "markdown",
      "metadata": {
        "id": "view-in-github",
        "colab_type": "text"
      },
      "source": [
        "<a href=\"https://colab.research.google.com/github/Teeradol/scas/blob/master/Risk_pricing_using_deep_learning.ipynb\" target=\"_parent\"><img src=\"https://colab.research.google.com/assets/colab-badge.svg\" alt=\"Open In Colab\"/></a>"
      ]
    },
    {
      "cell_type": "code",
      "metadata": {
        "id": "zXZyCCcP5QqK",
        "colab_type": "code",
        "colab": {}
      },
      "source": [
        "## Import library\n",
        "import pandas as pd\n",
        "import numpy as np\n",
        "from keras.layers import Input, Embedding, LSTM, Dense, Reshape, concatenate\n",
        "from keras.models import Model\n",
        "from keras.utils.vis_utils import model_to_dot\n",
        "from sklearn.model_selection import train_test_split\n",
        "from IPython.display import SVG\n",
        "%matplotlib inline\n",
        "\n",
        "import tensorflow as tf\n"
      ],
      "execution_count": 0,
      "outputs": []
    },
    {
      "cell_type": "code",
      "metadata": {
        "id": "Av22nfAt-2jO",
        "colab_type": "code",
        "colab": {
          "base_uri": "https://localhost:8080/",
          "height": 204
        },
        "outputId": "460309bb-1dc0-4709-9dee-8faa03d41002"
      },
      "source": [
        "## Import data\n",
        "link = 'http://www.statsci.org/data/general/motorins.txt'\n",
        "df = pd.read_csv(link, sep = '\\t')\n",
        "\n",
        "## Calculated fields\n",
        "df['frequency'] = df['Claims'] / df['Insured']\n",
        "\n",
        "df['severity'] = df['Payment'] / df['Claims']\n",
        "df['severity'] = df['severity'].fillna(0)\n",
        "\n",
        "df['risk_premium'] = df['Payment'] / df['Insured']\n",
        "\n",
        "df.head()"
      ],
      "execution_count": 13,
      "outputs": [
        {
          "output_type": "execute_result",
          "data": {
            "text/html": [
              "<div>\n",
              "<style scoped>\n",
              "    .dataframe tbody tr th:only-of-type {\n",
              "        vertical-align: middle;\n",
              "    }\n",
              "\n",
              "    .dataframe tbody tr th {\n",
              "        vertical-align: top;\n",
              "    }\n",
              "\n",
              "    .dataframe thead th {\n",
              "        text-align: right;\n",
              "    }\n",
              "</style>\n",
              "<table border=\"1\" class=\"dataframe\">\n",
              "  <thead>\n",
              "    <tr style=\"text-align: right;\">\n",
              "      <th></th>\n",
              "      <th>Kilometres</th>\n",
              "      <th>Zone</th>\n",
              "      <th>Bonus</th>\n",
              "      <th>Make</th>\n",
              "      <th>Insured</th>\n",
              "      <th>Claims</th>\n",
              "      <th>Payment</th>\n",
              "      <th>frequency</th>\n",
              "      <th>severity</th>\n",
              "      <th>risk_premium</th>\n",
              "    </tr>\n",
              "  </thead>\n",
              "  <tbody>\n",
              "    <tr>\n",
              "      <th>0</th>\n",
              "      <td>1</td>\n",
              "      <td>1</td>\n",
              "      <td>1</td>\n",
              "      <td>1</td>\n",
              "      <td>455.13</td>\n",
              "      <td>108</td>\n",
              "      <td>392491</td>\n",
              "      <td>0.237295</td>\n",
              "      <td>3634.175926</td>\n",
              "      <td>862.371191</td>\n",
              "    </tr>\n",
              "    <tr>\n",
              "      <th>1</th>\n",
              "      <td>1</td>\n",
              "      <td>1</td>\n",
              "      <td>1</td>\n",
              "      <td>2</td>\n",
              "      <td>69.17</td>\n",
              "      <td>19</td>\n",
              "      <td>46221</td>\n",
              "      <td>0.274686</td>\n",
              "      <td>2432.684211</td>\n",
              "      <td>668.223218</td>\n",
              "    </tr>\n",
              "    <tr>\n",
              "      <th>2</th>\n",
              "      <td>1</td>\n",
              "      <td>1</td>\n",
              "      <td>1</td>\n",
              "      <td>3</td>\n",
              "      <td>72.88</td>\n",
              "      <td>13</td>\n",
              "      <td>15694</td>\n",
              "      <td>0.178375</td>\n",
              "      <td>1207.230769</td>\n",
              "      <td>215.340285</td>\n",
              "    </tr>\n",
              "    <tr>\n",
              "      <th>3</th>\n",
              "      <td>1</td>\n",
              "      <td>1</td>\n",
              "      <td>1</td>\n",
              "      <td>4</td>\n",
              "      <td>1292.39</td>\n",
              "      <td>124</td>\n",
              "      <td>422201</td>\n",
              "      <td>0.095946</td>\n",
              "      <td>3404.846774</td>\n",
              "      <td>326.682348</td>\n",
              "    </tr>\n",
              "    <tr>\n",
              "      <th>4</th>\n",
              "      <td>1</td>\n",
              "      <td>1</td>\n",
              "      <td>1</td>\n",
              "      <td>5</td>\n",
              "      <td>191.01</td>\n",
              "      <td>40</td>\n",
              "      <td>119373</td>\n",
              "      <td>0.209413</td>\n",
              "      <td>2984.325000</td>\n",
              "      <td>624.956809</td>\n",
              "    </tr>\n",
              "  </tbody>\n",
              "</table>\n",
              "</div>"
            ],
            "text/plain": [
              "   Kilometres  Zone  Bonus  Make  ...  Payment  frequency     severity  risk_premium\n",
              "0           1     1      1     1  ...   392491   0.237295  3634.175926    862.371191\n",
              "1           1     1      1     2  ...    46221   0.274686  2432.684211    668.223218\n",
              "2           1     1      1     3  ...    15694   0.178375  1207.230769    215.340285\n",
              "3           1     1      1     4  ...   422201   0.095946  3404.846774    326.682348\n",
              "4           1     1      1     5  ...   119373   0.209413  2984.325000    624.956809\n",
              "\n",
              "[5 rows x 10 columns]"
            ]
          },
          "metadata": {
            "tags": []
          },
          "execution_count": 13
        }
      ]
    },
    {
      "cell_type": "code",
      "metadata": {
        "id": "p4Y4PmHDAJFC",
        "colab_type": "code",
        "colab": {
          "base_uri": "https://localhost:8080/",
          "height": 204
        },
        "outputId": "4642c133-3aba-434c-b98d-e83487c9e547"
      },
      "source": [
        "## Data Exploratory\n",
        "df.shape\n",
        "df.isnull().sum(axis = 0)\n"
      ],
      "execution_count": 15,
      "outputs": [
        {
          "output_type": "execute_result",
          "data": {
            "text/plain": [
              "Kilometres      0\n",
              "Zone            0\n",
              "Bonus           0\n",
              "Make            0\n",
              "Insured         0\n",
              "Claims          0\n",
              "Payment         0\n",
              "frequency       0\n",
              "severity        0\n",
              "risk_premium    0\n",
              "dtype: int64"
            ]
          },
          "metadata": {
            "tags": []
          },
          "execution_count": 15
        }
      ]
    },
    {
      "cell_type": "code",
      "metadata": {
        "id": "xdRwoG3TBrbW",
        "colab_type": "code",
        "colab": {
          "base_uri": "https://localhost:8080/",
          "height": 34
        },
        "outputId": "9c3b00ab-1b35-474e-f6f9-8377e03f327a"
      },
      "source": [
        "## Spliting training and testing dataset\n",
        "train, test = train_test_split(df, test_size = 0.2, random_state = 12345)\n",
        "\n",
        "## Calculate KPIs for dataset\n",
        "total = train.loc[:, ['Insured', 'Claims', 'Payment']].agg('sum')\n",
        "train_avg_frequency = total['Claims'] / total['Insured']\n",
        "train_avg_severity = total['Payment'] / total['Claims']\n",
        "train_avg_riskpremium = total['Payment'] / total['Insured']\n",
        "\n",
        "print(\"Frequency is \" + str(train_avg_frequency) + \" Severity is \" + str(train_avg_severity) + \" Risk premium is \" + str(train_avg_riskpremium))"
      ],
      "execution_count": 19,
      "outputs": [
        {
          "output_type": "stream",
          "text": [
            "Frequency is 0.04749109486158422 Severity is 4959.405313081085 Risk premium is 235.52758818057862\n"
          ],
          "name": "stdout"
        }
      ]
    },
    {
      "cell_type": "code",
      "metadata": {
        "id": "52AvHbPsDWgw",
        "colab_type": "code",
        "colab": {}
      },
      "source": [
        "## Embeddings\n",
        "zone_input = Input(shape = (1,), name = 'zone_input')\n",
        "make_input = Input(shape = (1,), name = 'make_input')\n",
        "\n",
        "zone_embedding = Embedding(output_dim=2, input_dim=7)(zone_input) \n",
        "zone_embedding = Reshape(target_shape=(2,))(zone_embedding) \n",
        "\n",
        "make_embedding = Embedding(output_dim=2, input_dim=9)(make_input) \n",
        "make_embedding = Reshape(target_shape=(2,))(make_embedding)\n",
        "\n",
        "kilometres_input = Input(shape = (1,), name = 'kilometres_input')\n",
        "bonus_input = Input(shape = (1,), name = 'bonus_input')\n",
        "\n",
        "x = concatenate([zone_embedding, make_embedding, kilometres_input, bonus_input])"
      ],
      "execution_count": 0,
      "outputs": []
    },
    {
      "cell_type": "code",
      "metadata": {
        "id": "zcLFGJb2EaGp",
        "colab_type": "code",
        "colab": {
          "base_uri": "https://localhost:8080/",
          "height": 34
        },
        "outputId": "1d2e4410-3526-4ff8-b8f7-1146e96b8909"
      },
      "source": [
        "print(x)"
      ],
      "execution_count": 29,
      "outputs": [
        {
          "output_type": "stream",
          "text": [
            "Tensor(\"concatenate_1/concat:0\", shape=(?, 6), dtype=float32)\n"
          ],
          "name": "stdout"
        }
      ]
    },
    {
      "cell_type": "code",
      "metadata": {
        "id": "BfLvFE5UjsyN",
        "colab_type": "code",
        "colab": {}
      },
      "source": [
        "## Dense layers\n",
        "x = Dense(64, activation='relu')(x) \n",
        "x = Dense(64, activation='relu')(x) \n",
        "x = Dense(64, activation='relu')(x)\n"
      ],
      "execution_count": 0,
      "outputs": []
    },
    {
      "cell_type": "code",
      "metadata": {
        "id": "kjD6b8vZj-_R",
        "colab_type": "code",
        "colab": {}
      },
      "source": [
        "## Output\n",
        "frequency_output = Dense(1, activation='relu', name='frequency')(x) \n",
        "severity_output = Dense(1, activation='relu', name='severity')(x) \n",
        "risk_premium_output = Dense(1, activation='relu', name='risk_premium')(x)"
      ],
      "execution_count": 0,
      "outputs": []
    },
    {
      "cell_type": "code",
      "metadata": {
        "id": "ptBHWtyWkHn8",
        "colab_type": "code",
        "colab": {}
      },
      "source": [
        "## Model Definition\n",
        "model = Model(inputs=[zone_input, make_input, kilometres_input, bonus_input], outputs=[frequency_output, severity_output, risk_premium_output])\n"
      ],
      "execution_count": 0,
      "outputs": []
    },
    {
      "cell_type": "code",
      "metadata": {
        "id": "PJ7VDLWPkPHJ",
        "colab_type": "code",
        "colab": {}
      },
      "source": [
        "model.compile(optimizer='adam', loss={'risk_premium': 'mean_squared_error', 'frequency': 'poisson', 'severity': 'mean_squared_logarithmic_error'}, loss_weights={'risk_premium': 1.0, 'frequency': 1.0, 'severity': 1.0})\n"
      ],
      "execution_count": 0,
      "outputs": []
    },
    {
      "cell_type": "code",
      "metadata": {
        "id": "WA7a8brOkbFT",
        "colab_type": "code",
        "colab": {
          "base_uri": "https://localhost:8080/",
          "height": 1000
        },
        "outputId": "efb47644-c919-443e-ce46-a4b2f458d2dc"
      },
      "source": [
        "SVG(model_to_dot(model).create(prog='dot', format='svg'))"
      ],
      "execution_count": 35,
      "outputs": [
        {
          "output_type": "execute_result",
          "data": {
            "text/plain": [
              "<IPython.core.display.SVG object>"
            ],
            "image/svg+xml": "<svg height=\"741pt\" viewBox=\"0.00 0.00 726.00 556.00\" width=\"968pt\" xmlns=\"http://www.w3.org/2000/svg\" xmlns:xlink=\"http://www.w3.org/1999/xlink\">\n<g class=\"graph\" id=\"graph0\" transform=\"scale(1.3333 1.3333) rotate(0) translate(4 552)\">\n<title>G</title>\n<polygon fill=\"#ffffff\" points=\"-4,4 -4,-552 722,-552 722,4 -4,4\" stroke=\"transparent\"/>\n<!-- 140214049040200 -->\n<g class=\"node\" id=\"node1\">\n<title>140214049040200</title>\n<polygon fill=\"none\" points=\"9.5,-511.5 9.5,-547.5 161.5,-547.5 161.5,-511.5 9.5,-511.5\" stroke=\"#000000\"/>\n<text fill=\"#000000\" font-family=\"Times,serif\" font-size=\"14.00\" text-anchor=\"middle\" x=\"85.5\" y=\"-525.8\">zone_input: InputLayer</text>\n</g>\n<!-- 140214049040480 -->\n<g class=\"node\" id=\"node3\">\n<title>140214049040480</title>\n<polygon fill=\"none\" points=\"0,-438.5 0,-474.5 171,-474.5 171,-438.5 0,-438.5\" stroke=\"#000000\"/>\n<text fill=\"#000000\" font-family=\"Times,serif\" font-size=\"14.00\" text-anchor=\"middle\" x=\"85.5\" y=\"-452.8\">embedding_9: Embedding</text>\n</g>\n<!-- 140214049040200&#45;&gt;140214049040480 -->\n<g class=\"edge\" id=\"edge1\">\n<title>140214049040200-&gt;140214049040480</title>\n<path d=\"M85.5,-511.4551C85.5,-503.3828 85.5,-493.6764 85.5,-484.6817\" fill=\"none\" stroke=\"#000000\"/>\n<polygon fill=\"#000000\" points=\"89.0001,-484.5903 85.5,-474.5904 82.0001,-484.5904 89.0001,-484.5903\" stroke=\"#000000\"/>\n</g>\n<!-- 140214049040312 -->\n<g class=\"node\" id=\"node2\">\n<title>140214049040312</title>\n<polygon fill=\"none\" points=\"200.5,-511.5 200.5,-547.5 356.5,-547.5 356.5,-511.5 200.5,-511.5\" stroke=\"#000000\"/>\n<text fill=\"#000000\" font-family=\"Times,serif\" font-size=\"14.00\" text-anchor=\"middle\" x=\"278.5\" y=\"-525.8\">make_input: InputLayer</text>\n</g>\n<!-- 140214049040256 -->\n<g class=\"node\" id=\"node4\">\n<title>140214049040256</title>\n<polygon fill=\"none\" points=\"189,-438.5 189,-474.5 368,-474.5 368,-438.5 189,-438.5\" stroke=\"#000000\"/>\n<text fill=\"#000000\" font-family=\"Times,serif\" font-size=\"14.00\" text-anchor=\"middle\" x=\"278.5\" y=\"-452.8\">embedding_10: Embedding</text>\n</g>\n<!-- 140214049040312&#45;&gt;140214049040256 -->\n<g class=\"edge\" id=\"edge2\">\n<title>140214049040312-&gt;140214049040256</title>\n<path d=\"M278.5,-511.4551C278.5,-503.3828 278.5,-493.6764 278.5,-484.6817\" fill=\"none\" stroke=\"#000000\"/>\n<polygon fill=\"#000000\" points=\"282.0001,-484.5903 278.5,-474.5904 275.0001,-484.5904 282.0001,-484.5903\" stroke=\"#000000\"/>\n</g>\n<!-- 140214049040536 -->\n<g class=\"node\" id=\"node5\">\n<title>140214049040536</title>\n<polygon fill=\"none\" points=\"40.5,-365.5 40.5,-401.5 170.5,-401.5 170.5,-365.5 40.5,-365.5\" stroke=\"#000000\"/>\n<text fill=\"#000000\" font-family=\"Times,serif\" font-size=\"14.00\" text-anchor=\"middle\" x=\"105.5\" y=\"-379.8\">reshape_9: Reshape</text>\n</g>\n<!-- 140214049040480&#45;&gt;140214049040536 -->\n<g class=\"edge\" id=\"edge3\">\n<title>140214049040480-&gt;140214049040536</title>\n<path d=\"M90.4438,-438.4551C92.6794,-430.2951 95.3726,-420.4652 97.8593,-411.3887\" fill=\"none\" stroke=\"#000000\"/>\n<polygon fill=\"#000000\" points=\"101.2769,-412.1598 100.5437,-401.5904 94.5257,-410.3101 101.2769,-412.1598\" stroke=\"#000000\"/>\n</g>\n<!-- 140214049042160 -->\n<g class=\"node\" id=\"node6\">\n<title>140214049042160</title>\n<polygon fill=\"none\" points=\"199,-365.5 199,-401.5 336,-401.5 336,-365.5 199,-365.5\" stroke=\"#000000\"/>\n<text fill=\"#000000\" font-family=\"Times,serif\" font-size=\"14.00\" text-anchor=\"middle\" x=\"267.5\" y=\"-379.8\">reshape_10: Reshape</text>\n</g>\n<!-- 140214049040256&#45;&gt;140214049042160 -->\n<g class=\"edge\" id=\"edge4\">\n<title>140214049040256-&gt;140214049042160</title>\n<path d=\"M275.7809,-438.4551C274.5645,-430.3828 273.1019,-420.6764 271.7466,-411.6817\" fill=\"none\" stroke=\"#000000\"/>\n<polygon fill=\"#000000\" points=\"275.177,-410.9572 270.2259,-401.5904 268.2551,-412.0003 275.177,-410.9572\" stroke=\"#000000\"/>\n</g>\n<!-- 140214049106912 -->\n<g class=\"node\" id=\"node9\">\n<title>140214049106912</title>\n<polygon fill=\"none\" points=\"269,-292.5 269,-328.5 444,-328.5 444,-292.5 269,-292.5\" stroke=\"#000000\"/>\n<text fill=\"#000000\" font-family=\"Times,serif\" font-size=\"14.00\" text-anchor=\"middle\" x=\"356.5\" y=\"-306.8\">concatenate_1: Concatenate</text>\n</g>\n<!-- 140214049040536&#45;&gt;140214049106912 -->\n<g class=\"edge\" id=\"edge5\">\n<title>140214049040536-&gt;140214049106912</title>\n<path d=\"M167.545,-365.4551C202.9931,-355.1454 247.607,-342.1701 284.5816,-331.4165\" fill=\"none\" stroke=\"#000000\"/>\n<polygon fill=\"#000000\" points=\"285.6742,-334.7438 294.2989,-328.5904 283.7193,-328.0223 285.6742,-334.7438\" stroke=\"#000000\"/>\n</g>\n<!-- 140214049042160&#45;&gt;140214049106912 -->\n<g class=\"edge\" id=\"edge6\">\n<title>140214049042160-&gt;140214049106912</title>\n<path d=\"M289.5,-365.4551C300.6251,-356.3299 314.2964,-345.1165 326.3819,-335.2036\" fill=\"none\" stroke=\"#000000\"/>\n<polygon fill=\"#000000\" points=\"328.9324,-337.6384 334.4446,-328.5904 324.4931,-332.2261 328.9324,-337.6384\" stroke=\"#000000\"/>\n</g>\n<!-- 140214049042328 -->\n<g class=\"node\" id=\"node7\">\n<title>140214049042328</title>\n<polygon fill=\"none\" points=\"354,-365.5 354,-401.5 539,-401.5 539,-365.5 354,-365.5\" stroke=\"#000000\"/>\n<text fill=\"#000000\" font-family=\"Times,serif\" font-size=\"14.00\" text-anchor=\"middle\" x=\"446.5\" y=\"-379.8\">kilometres_input: InputLayer</text>\n</g>\n<!-- 140214049042328&#45;&gt;140214049106912 -->\n<g class=\"edge\" id=\"edge7\">\n<title>140214049042328-&gt;140214049106912</title>\n<path d=\"M424.2528,-365.4551C412.8945,-356.2422 398.9117,-344.9006 386.6044,-334.918\" fill=\"none\" stroke=\"#000000\"/>\n<polygon fill=\"#000000\" points=\"388.7744,-332.1716 378.8032,-328.5904 384.3648,-337.6081 388.7744,-332.1716\" stroke=\"#000000\"/>\n</g>\n<!-- 140214049107584 -->\n<g class=\"node\" id=\"node8\">\n<title>140214049107584</title>\n<polygon fill=\"none\" points=\"557,-365.5 557,-401.5 718,-401.5 718,-365.5 557,-365.5\" stroke=\"#000000\"/>\n<text fill=\"#000000\" font-family=\"Times,serif\" font-size=\"14.00\" text-anchor=\"middle\" x=\"637.5\" y=\"-379.8\">bonus_input: InputLayer</text>\n</g>\n<!-- 140214049107584&#45;&gt;140214049106912 -->\n<g class=\"edge\" id=\"edge8\">\n<title>140214049107584-&gt;140214049106912</title>\n<path d=\"M568.0393,-365.4551C528.0166,-355.0577 477.5572,-341.949 435.9593,-331.1424\" fill=\"none\" stroke=\"#000000\"/>\n<polygon fill=\"#000000\" points=\"436.6943,-327.7173 426.1355,-328.5904 434.9342,-334.4924 436.6943,-327.7173\" stroke=\"#000000\"/>\n</g>\n<!-- 140214049489528 -->\n<g class=\"node\" id=\"node10\">\n<title>140214049489528</title>\n<polygon fill=\"none\" points=\"303,-219.5 303,-255.5 410,-255.5 410,-219.5 303,-219.5\" stroke=\"#000000\"/>\n<text fill=\"#000000\" font-family=\"Times,serif\" font-size=\"14.00\" text-anchor=\"middle\" x=\"356.5\" y=\"-233.8\">dense_1: Dense</text>\n</g>\n<!-- 140214049106912&#45;&gt;140214049489528 -->\n<g class=\"edge\" id=\"edge9\">\n<title>140214049106912-&gt;140214049489528</title>\n<path d=\"M356.5,-292.4551C356.5,-284.3828 356.5,-274.6764 356.5,-265.6817\" fill=\"none\" stroke=\"#000000\"/>\n<polygon fill=\"#000000\" points=\"360.0001,-265.5903 356.5,-255.5904 353.0001,-265.5904 360.0001,-265.5903\" stroke=\"#000000\"/>\n</g>\n<!-- 140214049489808 -->\n<g class=\"node\" id=\"node11\">\n<title>140214049489808</title>\n<polygon fill=\"none\" points=\"303,-146.5 303,-182.5 410,-182.5 410,-146.5 303,-146.5\" stroke=\"#000000\"/>\n<text fill=\"#000000\" font-family=\"Times,serif\" font-size=\"14.00\" text-anchor=\"middle\" x=\"356.5\" y=\"-160.8\">dense_2: Dense</text>\n</g>\n<!-- 140214049489528&#45;&gt;140214049489808 -->\n<g class=\"edge\" id=\"edge10\">\n<title>140214049489528-&gt;140214049489808</title>\n<path d=\"M356.5,-219.4551C356.5,-211.3828 356.5,-201.6764 356.5,-192.6817\" fill=\"none\" stroke=\"#000000\"/>\n<polygon fill=\"#000000\" points=\"360.0001,-192.5903 356.5,-182.5904 353.0001,-192.5904 360.0001,-192.5903\" stroke=\"#000000\"/>\n</g>\n<!-- 140214049161168 -->\n<g class=\"node\" id=\"node12\">\n<title>140214049161168</title>\n<polygon fill=\"none\" points=\"303,-73.5 303,-109.5 410,-109.5 410,-73.5 303,-73.5\" stroke=\"#000000\"/>\n<text fill=\"#000000\" font-family=\"Times,serif\" font-size=\"14.00\" text-anchor=\"middle\" x=\"356.5\" y=\"-87.8\">dense_3: Dense</text>\n</g>\n<!-- 140214049489808&#45;&gt;140214049161168 -->\n<g class=\"edge\" id=\"edge11\">\n<title>140214049489808-&gt;140214049161168</title>\n<path d=\"M356.5,-146.4551C356.5,-138.3828 356.5,-128.6764 356.5,-119.6817\" fill=\"none\" stroke=\"#000000\"/>\n<polygon fill=\"#000000\" points=\"360.0001,-119.5903 356.5,-109.5904 353.0001,-119.5904 360.0001,-119.5903\" stroke=\"#000000\"/>\n</g>\n<!-- 140214039828576 -->\n<g class=\"node\" id=\"node13\">\n<title>140214039828576</title>\n<polygon fill=\"none\" points=\"170.5,-.5 170.5,-36.5 286.5,-36.5 286.5,-.5 170.5,-.5\" stroke=\"#000000\"/>\n<text fill=\"#000000\" font-family=\"Times,serif\" font-size=\"14.00\" text-anchor=\"middle\" x=\"228.5\" y=\"-14.8\">frequency: Dense</text>\n</g>\n<!-- 140214049161168&#45;&gt;140214039828576 -->\n<g class=\"edge\" id=\"edge12\">\n<title>140214049161168-&gt;140214039828576</title>\n<path d=\"M324.8595,-73.4551C308.0901,-63.8912 287.2983,-52.0334 269.3255,-41.7833\" fill=\"none\" stroke=\"#000000\"/>\n<polygon fill=\"#000000\" points=\"270.6406,-38.5042 260.2201,-36.5904 267.1728,-44.5848 270.6406,-38.5042\" stroke=\"#000000\"/>\n</g>\n<!-- 140214039830200 -->\n<g class=\"node\" id=\"node14\">\n<title>140214039830200</title>\n<polygon fill=\"none\" points=\"304.5,-.5 304.5,-36.5 408.5,-36.5 408.5,-.5 304.5,-.5\" stroke=\"#000000\"/>\n<text fill=\"#000000\" font-family=\"Times,serif\" font-size=\"14.00\" text-anchor=\"middle\" x=\"356.5\" y=\"-14.8\">severity: Dense</text>\n</g>\n<!-- 140214049161168&#45;&gt;140214039830200 -->\n<g class=\"edge\" id=\"edge13\">\n<title>140214049161168-&gt;140214039830200</title>\n<path d=\"M356.5,-73.4551C356.5,-65.3828 356.5,-55.6764 356.5,-46.6817\" fill=\"none\" stroke=\"#000000\"/>\n<polygon fill=\"#000000\" points=\"360.0001,-46.5903 356.5,-36.5904 353.0001,-46.5904 360.0001,-46.5903\" stroke=\"#000000\"/>\n</g>\n<!-- 140214039875712 -->\n<g class=\"node\" id=\"node15\">\n<title>140214039875712</title>\n<polygon fill=\"none\" points=\"426.5,-.5 426.5,-36.5 566.5,-36.5 566.5,-.5 426.5,-.5\" stroke=\"#000000\"/>\n<text fill=\"#000000\" font-family=\"Times,serif\" font-size=\"14.00\" text-anchor=\"middle\" x=\"496.5\" y=\"-14.8\">risk_premium: Dense</text>\n</g>\n<!-- 140214049161168&#45;&gt;140214039875712 -->\n<g class=\"edge\" id=\"edge14\">\n<title>140214049161168-&gt;140214039875712</title>\n<path d=\"M391.1068,-73.4551C409.7849,-63.7157 433.0254,-51.5975 452.926,-41.2207\" fill=\"none\" stroke=\"#000000\"/>\n<polygon fill=\"#000000\" points=\"454.5574,-44.3174 461.8062,-36.5904 451.3209,-38.1105 454.5574,-44.3174\" stroke=\"#000000\"/>\n</g>\n</g>\n</svg>"
          },
          "metadata": {
            "tags": []
          },
          "execution_count": 35
        }
      ]
    },
    {
      "cell_type": "code",
      "metadata": {
        "id": "LAgA9-bZkkE-",
        "colab_type": "code",
        "colab": {
          "base_uri": "https://localhost:8080/",
          "height": 1000
        },
        "outputId": "f530c803-1a0c-4777-d828-c4fd69924873"
      },
      "source": [
        "\tdef InputDataTransformer(x):\n",
        "    return {'kilometres_input': (x.Kilometres.values - 1) / 5, 'zone_input': x.Zone.values - 1,\n",
        "            'bonus_input': (x.Bonus.values - 1) / 7, 'make_input': x.Make.values - 1}\n",
        "\n",
        "model.fit(InputDataTransformer(train), {'frequency': train.frequency.values / train_avg_frequency,\n",
        "                                        'severity': train.severity.values / train_avg_severity,\n",
        "                                        'risk_premium': train.risk_premium.values / train_avg_riskpremium}, \n",
        "          sample_weight={'frequency': train.Insured.values, 'severity': train.Claims.values, 'risk_premium': train.Insured.values}, \n",
        "          epochs=40, batch_size=32)\n"
      ],
      "execution_count": 38,
      "outputs": [
        {
          "output_type": "stream",
          "text": [
            "WARNING:tensorflow:From /usr/local/lib/python3.6/dist-packages/tensorflow_core/python/ops/math_grad.py:1424: where (from tensorflow.python.ops.array_ops) is deprecated and will be removed in a future version.\n",
            "Instructions for updating:\n",
            "Use tf.where in 2.0, which has the same broadcast rule as np.where\n",
            "WARNING:tensorflow:From /usr/local/lib/python3.6/dist-packages/keras/backend/tensorflow_backend.py:1033: The name tf.assign_add is deprecated. Please use tf.compat.v1.assign_add instead.\n",
            "\n",
            "WARNING:tensorflow:From /usr/local/lib/python3.6/dist-packages/keras/backend/tensorflow_backend.py:1020: The name tf.assign is deprecated. Please use tf.compat.v1.assign instead.\n",
            "\n",
            "WARNING:tensorflow:From /usr/local/lib/python3.6/dist-packages/keras/backend/tensorflow_backend.py:3005: The name tf.Session is deprecated. Please use tf.compat.v1.Session instead.\n",
            "\n",
            "Epoch 1/40\n",
            "WARNING:tensorflow:From /usr/local/lib/python3.6/dist-packages/keras/backend/tensorflow_backend.py:190: The name tf.get_default_session is deprecated. Please use tf.compat.v1.get_default_session instead.\n",
            "\n",
            "WARNING:tensorflow:From /usr/local/lib/python3.6/dist-packages/keras/backend/tensorflow_backend.py:197: The name tf.ConfigProto is deprecated. Please use tf.compat.v1.ConfigProto instead.\n",
            "\n",
            "WARNING:tensorflow:From /usr/local/lib/python3.6/dist-packages/keras/backend/tensorflow_backend.py:207: The name tf.global_variables is deprecated. Please use tf.compat.v1.global_variables instead.\n",
            "\n",
            "WARNING:tensorflow:From /usr/local/lib/python3.6/dist-packages/keras/backend/tensorflow_backend.py:216: The name tf.is_variable_initialized is deprecated. Please use tf.compat.v1.is_variable_initialized instead.\n",
            "\n",
            "WARNING:tensorflow:From /usr/local/lib/python3.6/dist-packages/keras/backend/tensorflow_backend.py:223: The name tf.variables_initializer is deprecated. Please use tf.compat.v1.variables_initializer instead.\n",
            "\n",
            "1745/1745 [==============================] - 1s 657us/step - loss: 3023.8954 - frequency_loss: 1895.2338 - severity_loss: 32.3482 - risk_premium_loss: 1096.3135\n",
            "Epoch 2/40\n",
            "1745/1745 [==============================] - 0s 74us/step - loss: 1649.8412 - frequency_loss: 1161.2765 - severity_loss: 32.0999 - risk_premium_loss: 456.4648\n",
            "Epoch 3/40\n",
            "1745/1745 [==============================] - 0s 72us/step - loss: 1338.2147 - frequency_loss: 1058.5420 - severity_loss: 32.9130 - risk_premium_loss: 246.7597\n",
            "Epoch 4/40\n",
            "1745/1745 [==============================] - 0s 76us/step - loss: 1259.4296 - frequency_loss: 1031.1417 - severity_loss: 32.0424 - risk_premium_loss: 196.2455\n",
            "Epoch 5/40\n",
            "1745/1745 [==============================] - 0s 73us/step - loss: 1210.8152 - frequency_loss: 1011.4391 - severity_loss: 32.3905 - risk_premium_loss: 166.9856\n",
            "Epoch 6/40\n",
            "1745/1745 [==============================] - 0s 67us/step - loss: 1189.8232 - frequency_loss: 1004.7530 - severity_loss: 32.1045 - risk_premium_loss: 152.9656\n",
            "Epoch 7/40\n",
            "1745/1745 [==============================] - 0s 71us/step - loss: 1184.5656 - frequency_loss: 1002.5074 - severity_loss: 32.2033 - risk_premium_loss: 149.8549\n",
            "Epoch 8/40\n",
            "1745/1745 [==============================] - 0s 74us/step - loss: 1182.8213 - frequency_loss: 1002.0675 - severity_loss: 32.2976 - risk_premium_loss: 148.4562\n",
            "Epoch 9/40\n",
            "1745/1745 [==============================] - 0s 81us/step - loss: 1178.9884 - frequency_loss: 1001.1657 - severity_loss: 32.3640 - risk_premium_loss: 145.4586\n",
            "Epoch 10/40\n",
            "1745/1745 [==============================] - 0s 76us/step - loss: 1178.8989 - frequency_loss: 1000.4775 - severity_loss: 32.9171 - risk_premium_loss: 145.5043\n",
            "Epoch 11/40\n",
            "1745/1745 [==============================] - 0s 72us/step - loss: 1177.7630 - frequency_loss: 1000.1980 - severity_loss: 32.5006 - risk_premium_loss: 145.0643\n",
            "Epoch 12/40\n",
            "1745/1745 [==============================] - 0s 78us/step - loss: 1173.6489 - frequency_loss: 998.8371 - severity_loss: 32.1515 - risk_premium_loss: 142.6604\n",
            "Epoch 13/40\n",
            "1745/1745 [==============================] - 0s 71us/step - loss: 1171.3005 - frequency_loss: 998.0042 - severity_loss: 32.4234 - risk_premium_loss: 140.8729\n",
            "Epoch 14/40\n",
            "1745/1745 [==============================] - 0s 70us/step - loss: 1169.8756 - frequency_loss: 997.6177 - severity_loss: 32.2551 - risk_premium_loss: 140.0028\n",
            "Epoch 15/40\n",
            "1745/1745 [==============================] - 0s 73us/step - loss: 1175.8101 - frequency_loss: 998.8068 - severity_loss: 32.3782 - risk_premium_loss: 144.6252\n",
            "Epoch 16/40\n",
            "1745/1745 [==============================] - 0s 74us/step - loss: 1169.4723 - frequency_loss: 997.9286 - severity_loss: 32.3146 - risk_premium_loss: 139.2291\n",
            "Epoch 17/40\n",
            "1745/1745 [==============================] - 0s 74us/step - loss: 1168.7242 - frequency_loss: 997.3662 - severity_loss: 32.1284 - risk_premium_loss: 139.2296\n",
            "Epoch 18/40\n",
            "1745/1745 [==============================] - 0s 77us/step - loss: 1169.3716 - frequency_loss: 997.2422 - severity_loss: 32.1845 - risk_premium_loss: 139.9449\n",
            "Epoch 19/40\n",
            "1745/1745 [==============================] - 0s 73us/step - loss: 1166.5844 - frequency_loss: 996.6325 - severity_loss: 31.9043 - risk_premium_loss: 138.0476\n",
            "Epoch 20/40\n",
            "1745/1745 [==============================] - 0s 81us/step - loss: 1166.9573 - frequency_loss: 997.1091 - severity_loss: 32.2388 - risk_premium_loss: 137.6095\n",
            "Epoch 21/40\n",
            "1745/1745 [==============================] - 0s 70us/step - loss: 1164.0385 - frequency_loss: 995.8851 - severity_loss: 32.2390 - risk_premium_loss: 135.9144\n",
            "Epoch 22/40\n",
            "1745/1745 [==============================] - 0s 71us/step - loss: 1163.0839 - frequency_loss: 995.9988 - severity_loss: 32.5486 - risk_premium_loss: 134.5365\n",
            "Epoch 23/40\n",
            "1745/1745 [==============================] - 0s 78us/step - loss: 1163.6269 - frequency_loss: 995.9308 - severity_loss: 32.2923 - risk_premium_loss: 135.4038\n",
            "Epoch 24/40\n",
            "1745/1745 [==============================] - 0s 74us/step - loss: 1162.3736 - frequency_loss: 995.3109 - severity_loss: 32.7202 - risk_premium_loss: 134.3424\n",
            "Epoch 25/40\n",
            "1745/1745 [==============================] - 0s 78us/step - loss: 1168.6979 - frequency_loss: 998.2220 - severity_loss: 32.4922 - risk_premium_loss: 137.9838\n",
            "Epoch 26/40\n",
            "1745/1745 [==============================] - 0s 72us/step - loss: 1161.8815 - frequency_loss: 995.7815 - severity_loss: 32.3398 - risk_premium_loss: 133.7602\n",
            "Epoch 27/40\n",
            "1745/1745 [==============================] - 0s 75us/step - loss: 1160.8987 - frequency_loss: 994.9175 - severity_loss: 32.0612 - risk_premium_loss: 133.9200\n",
            "Epoch 28/40\n",
            "1745/1745 [==============================] - 0s 70us/step - loss: 1161.6698 - frequency_loss: 995.7462 - severity_loss: 31.9089 - risk_premium_loss: 134.0147\n",
            "Epoch 29/40\n",
            "1745/1745 [==============================] - 0s 73us/step - loss: 1161.5094 - frequency_loss: 995.4542 - severity_loss: 32.5446 - risk_premium_loss: 133.5106\n",
            "Epoch 30/40\n",
            "1745/1745 [==============================] - 0s 80us/step - loss: 1161.7948 - frequency_loss: 994.9373 - severity_loss: 32.6285 - risk_premium_loss: 134.2289\n",
            "Epoch 31/40\n",
            "1745/1745 [==============================] - 0s 72us/step - loss: 1158.9860 - frequency_loss: 995.1065 - severity_loss: 32.3866 - risk_premium_loss: 131.4928\n",
            "Epoch 32/40\n",
            "1745/1745 [==============================] - 0s 74us/step - loss: 1159.8869 - frequency_loss: 995.3394 - severity_loss: 32.6334 - risk_premium_loss: 131.9141\n",
            "Epoch 33/40\n",
            "1745/1745 [==============================] - 0s 72us/step - loss: 1156.0792 - frequency_loss: 994.6049 - severity_loss: 32.4092 - risk_premium_loss: 129.0650\n",
            "Epoch 34/40\n",
            "1745/1745 [==============================] - 0s 73us/step - loss: 1166.8559 - frequency_loss: 996.5059 - severity_loss: 32.2282 - risk_premium_loss: 138.1218\n",
            "Epoch 35/40\n",
            "1745/1745 [==============================] - 0s 72us/step - loss: 1161.2308 - frequency_loss: 995.4564 - severity_loss: 32.0518 - risk_premium_loss: 133.7226\n",
            "Epoch 36/40\n",
            "1745/1745 [==============================] - 0s 71us/step - loss: 1162.3357 - frequency_loss: 995.5619 - severity_loss: 32.1168 - risk_premium_loss: 134.6570\n",
            "Epoch 37/40\n",
            "1745/1745 [==============================] - 0s 75us/step - loss: 1157.1043 - frequency_loss: 994.2854 - severity_loss: 32.5558 - risk_premium_loss: 130.2631\n",
            "Epoch 38/40\n",
            "1745/1745 [==============================] - 0s 76us/step - loss: 1153.5730 - frequency_loss: 993.5836 - severity_loss: 32.4381 - risk_premium_loss: 127.5513\n",
            "Epoch 39/40\n",
            "1745/1745 [==============================] - 0s 73us/step - loss: 1151.8407 - frequency_loss: 992.8862 - severity_loss: 32.1488 - risk_premium_loss: 126.8057\n",
            "Epoch 40/40\n",
            "1745/1745 [==============================] - 0s 73us/step - loss: 1152.3486 - frequency_loss: 993.1574 - severity_loss: 32.2321 - risk_premium_loss: 126.9591\n"
          ],
          "name": "stdout"
        },
        {
          "output_type": "execute_result",
          "data": {
            "text/plain": [
              "<keras.callbacks.History at 0x7f861ff94550>"
            ]
          },
          "metadata": {
            "tags": []
          },
          "execution_count": 38
        }
      ]
    },
    {
      "cell_type": "code",
      "metadata": {
        "id": "ZYRZTkj8lMtN",
        "colab_type": "code",
        "colab": {}
      },
      "source": [
        "def predict_and_plot(df, train_average_frequency, train_average_risk_premium):\n",
        "  model_frequency, model_severity, model_risk_premium = model.predict(InputDataTransformer(df))\n",
        "  # Reverse the normalisation\n",
        "  # Score, sort by lowest to higher\n",
        "  df_new = df.assign(model_frequency = model_frequency * train_average_frequency, \n",
        "7\n",
        "model_risk_premium = model_risk_premium * train_average_risk_premium) \\\n",
        "8\n",
        ".assign(model_payment = lambda x: x.model_risk_premium * x.Insured,\n",
        "9\n",
        "model_claim_count = lambda x: x.model_frequency * x.Insured) \\\n",
        "10\n",
        ".sort_values(by=['model_frequency']) \\\n",
        "11\n",
        ".assign(model_claim_count_band = lambda x: np.floor(x.model_claim_count.cumsum() / x.model_claim_count.agg('sum') * 10) / 10) \\\n",
        "12\n",
        ".sort_values(by=['model_risk_premium']) \\\n",
        "13\n",
        ".assign(model_payment_band = lambda x: np.floor(x.model_payment.cumsum() / x.model_payment.agg('sum') * 10) / 10)\n",
        "14\n",
        " \n",
        "15\n",
        "# Summarise and plot frequency by weighted decile rank\n",
        "16\n",
        "df_new.loc[:,['model_claim_count_band', 'Insured', 'Claims', 'model_claim_count']] \\\n",
        "17\n",
        ".groupby('model_claim_count_band') \\\n",
        "18\n",
        ".agg('sum') \\\n",
        "19\n",
        ".assign(model_frequency = lambda x: x.model_claim_count / x.Insured,\n",
        "20\n",
        "actual_frequency = lambda x: x.Claims / x.Insured) \\\n",
        "21\n",
        ".loc[:,['model_frequency', 'actual_frequency']] \\\n",
        "22\n",
        ".plot.bar()\n",
        "23\n",
        " \n",
        "24\n",
        "# Summarise and plot risk premium by weighted decile rank\n",
        "25\n",
        "df_new.loc[:,['model_payment_band', 'Insured', 'Payment', 'model_payment']] \\\n",
        "26\n",
        ".groupby('model_payment_band') \\\n",
        "27\n",
        ".agg('sum') \\\n",
        "28\n",
        ".assign(model_risk_premium = lambda x: x.model_payment / x.Insured,\n",
        "29\n",
        "actual_risk_premium = lambda x: x.Payment / x.Insured) \\\n",
        "30\n",
        ".loc[:,['model_risk_premium', 'actual_risk_premium']] \\\n",
        "31\n",
        ".plot.bar()\n",
        "32\n",
        " \n",
        "33\n",
        "return df_new\n"
      ],
      "execution_count": 0,
      "outputs": []
    }
  ]
}